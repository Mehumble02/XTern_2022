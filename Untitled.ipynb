{
 "cells": [
  {
   "cell_type": "code",
   "execution_count": 19,
   "id": "8eb497ce",
   "metadata": {},
   "outputs": [
    {
     "name": "stdout",
     "output_type": "stream",
     "text": [
      "Index(['Address', 'City', 'Duration', 'End Time', 'F8', 'Name', 'State',\n",
      "       'State - Split 1', 'State - Split 2', 'Street', 'Time', 'Travel Time',\n",
      "       'Type', 'Duration - Split 1', 'Duration - Split 2', 'Total Duration',\n",
      "       'Total Time', 'Travel Min'],\n",
      "      dtype='object')\n"
     ]
    }
   ],
   "source": [
    "#import libraries pandas, matplotlib, numpy, datetime\n",
    "import pandas as pd \n",
    "import matplotlib as plt\n",
    "import numpy as np\n",
    "import datetime as dt\n",
    "\n",
    "#Import data by reading Excel file\n",
    "Tab = pd.read_excel(\"Itinerary_XTern.xlsx\")\n",
    "\n",
    "#Prints column names\n",
    "print(Tab.columns)"
   ]
  },
  {
   "cell_type": "code",
   "execution_count": 20,
   "id": "26a7ebaa",
   "metadata": {},
   "outputs": [],
   "source": [
    "#checks for duplicated columns in order to clean data\n",
    "Tab.duplicated()\n",
    "\n",
    "#strip the extra space from both sides of column names to clean data\n",
    "Tab.columns = Tab.columns.str.lstrip()\n",
    "Tab.columns = Tab.columns.str.rstrip()"
   ]
  },
  {
   "cell_type": "code",
   "execution_count": 21,
   "id": "f3383fb8",
   "metadata": {},
   "outputs": [
    {
     "name": "stdout",
     "output_type": "stream",
     "text": [
      "0    0.145833\n",
      "1    0.166667\n",
      "2    0.166667\n",
      "3    0.083333\n",
      "4    0.013889\n",
      "5    0.208333\n",
      "Name: Percentile, dtype: float64\n"
     ]
    }
   ],
   "source": [
    "#Creates a column that stores the percent value of each duration\n",
    "Tab[\"Percentile\"] = Tab[\"Total Duration\"] / Tab[\"Total Time\"]\n",
    "print(Tab[\"Percentile\"])"
   ]
  },
  {
   "cell_type": "code",
   "execution_count": 22,
   "id": "7ec22681",
   "metadata": {},
   "outputs": [
    {
     "data": {
      "text/plain": [
       "<AxesSubplot:title={'center':'Percent of Total'}, xlabel='Name'>"
      ]
     },
     "execution_count": 22,
     "metadata": {},
     "output_type": "execute_result"
    },
    {
     "data": {
      "image/png": "[encoded data removed]",
      "text/plain": [
       "<Figure size 432x288 with 1 Axes>"
      ]
     },
     "metadata": {
      "needs_background": "light"
     },
     "output_type": "display_data"
    }
   ],
   "source": [
    "#Chart to show what percent of the total day each activity takes up\n",
    "Tab.plot(kind='bar', color = 'pink', y=\"Percentile\", x=\"Name\", title=\"Percent of Total\")"
   ]
  },
  {
   "cell_type": "code",
   "execution_count": 23,
   "id": "7d496155",
   "metadata": {},
   "outputs": [
    {
     "name": "stdout",
     "output_type": "stream",
     "text": [
      "8\n",
      "29\n",
      "39\n",
      "42\n",
      "66\n",
      "96\n"
     ]
    }
   ],
   "source": [
    "#Make array to hold values of Travel Min\n",
    "Travels = Tab[\"Travel Min\"]\n",
    "\n",
    "TotalTravel = 0\n",
    "\n",
    "#Add all values together into one variable\n",
    "for i in Travels:\n",
    "    TotalTravel = TotalTravel + i\n",
    "    print(TotalTravel)"
   ]
  },
  {
   "cell_type": "code",
   "execution_count": 29,
   "id": "b0fe464a",
   "metadata": {},
   "outputs": [
    {
     "name": "stdout",
     "output_type": "stream",
     "text": [
      "Percent of Time Spent Traveling:  13.333333333333334 %\n"
     ]
    }
   ],
   "source": [
    "#Find percent of time traveling\n",
    "\n",
    "TravelTime = TotalTravel / ((21 - 9) * 60)\n",
    "\n",
    "print(\"Percent of Time Spent Traveling: \" ,TravelTime * 100, \"%\")"
   ]
  },
  {
   "cell_type": "code",
   "execution_count": null,
   "id": "28dc92d5",
   "metadata": {},
   "outputs": [],
   "source": []
  }
 ],
 "metadata": {
  "kernelspec": {
   "display_name": "Python 3 (ipykernel)",
   "language": "python",
   "name": "python3"
  },
  "language_info": {
   "codemirror_mode": {
    "name": "ipython",
    "version": 3
   },
   "file_extension": ".py",
   "mimetype": "text/x-python",
   "name": "python",
   "nbconvert_exporter": "python",
   "pygments_lexer": "ipython3",
   "version": "3.9.7"
  }
 },
 "nbformat": 4,
 "nbformat_minor": 5
}
